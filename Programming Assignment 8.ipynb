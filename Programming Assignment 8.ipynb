{
 "cells": [
  {
   "cell_type": "code",
   "execution_count": 1,
   "id": "1b81052b",
   "metadata": {},
   "outputs": [],
   "source": [
    "## using the same matrix for addition ,multiplication and transpose"
   ]
  },
  {
   "cell_type": "code",
   "execution_count": 2,
   "id": "a4f71e95",
   "metadata": {},
   "outputs": [],
   "source": [
    "import numpy as np\n",
    "mat_1 = np.array([[1,2],[3,4]])\n",
    "mat_2 = np.array([[5,6],[7,8]])"
   ]
  },
  {
   "cell_type": "code",
   "execution_count": 6,
   "id": "2f5e4217",
   "metadata": {},
   "outputs": [
    {
     "name": "stdout",
     "output_type": "stream",
     "text": [
      "[[ 6  8]\n",
      " [10 12]]\n"
     ]
    }
   ],
   "source": [
    "## Question 1\n",
    "print(np.add(mat_1,mat_2)) ##addition of two matrices"
   ]
  },
  {
   "cell_type": "code",
   "execution_count": 8,
   "id": "8710be45",
   "metadata": {},
   "outputs": [
    {
     "name": "stdout",
     "output_type": "stream",
     "text": [
      "[[ 5 12]\n",
      " [21 32]]\n"
     ]
    }
   ],
   "source": [
    "##Question 2\n",
    "print(np.multiply(mat_1,mat_2)) ##multiplication of two matrices"
   ]
  },
  {
   "cell_type": "code",
   "execution_count": 10,
   "id": "84aafaf5",
   "metadata": {},
   "outputs": [
    {
     "name": "stdout",
     "output_type": "stream",
     "text": [
      "[[1 3]\n",
      " [2 4]]\n"
     ]
    }
   ],
   "source": [
    "##Question 3\n",
    "print(mat_1.T) ## transpose of first matrice"
   ]
  },
  {
   "cell_type": "code",
   "execution_count": 11,
   "id": "d27573de",
   "metadata": {},
   "outputs": [
    {
     "name": "stdout",
     "output_type": "stream",
     "text": [
      "[[5 7]\n",
      " [6 8]]\n"
     ]
    }
   ],
   "source": [
    "print(mat_2.T) ## transpose of second matrice"
   ]
  },
  {
   "cell_type": "code",
   "execution_count": 21,
   "id": "dc8abb63",
   "metadata": {},
   "outputs": [],
   "source": [
    "##Question 4\n",
    "def sort(s):\n",
    "    a = s.split()\n",
    "    for i in range(len(a)):\n",
    "        a[i] = a[i].lower()\n",
    "    a.sort()\n",
    "    \n",
    "    return ' '.join(a)"
   ]
  },
  {
   "cell_type": "code",
   "execution_count": 22,
   "id": "0a07f5fd",
   "metadata": {},
   "outputs": [
    {
     "data": {
      "text/plain": [
       "'an ineuron is learning online website'"
      ]
     },
     "execution_count": 22,
     "metadata": {},
     "output_type": "execute_result"
    }
   ],
   "source": [
    "s = 'Ineuron is an online learning website'\n",
    "sort(s)"
   ]
  },
  {
   "cell_type": "code",
   "execution_count": 28,
   "id": "1ada8211",
   "metadata": {},
   "outputs": [
    {
     "name": "stdout",
     "output_type": "stream",
     "text": [
      "The original string is : Gfg, is best : for ! cscjcinscbc ;\n",
      "The string after punctuation filter : Gfg is best  for  cscjcinscbc \n"
     ]
    }
   ],
   "source": [
    "##Question 5\n",
    "test_str = \"Gfg, is best : for ! cscjcinscbc ;\"\n",
    "print(\"The original string is : \" + test_str)\n",
    "punc = '''!()-[]{};:'\"\\,<>./?@#$%^&*_~'''\n",
    "for ele in test_str:\n",
    "    if ele in punc:\n",
    "        test_str = test_str.replace(ele, \"\")\n",
    "print(\"The string after punctuation filter : \" + test_str)"
   ]
  },
  {
   "cell_type": "code",
   "execution_count": null,
   "id": "00a3948a",
   "metadata": {},
   "outputs": [],
   "source": []
  }
 ],
 "metadata": {
  "kernelspec": {
   "display_name": "Python 3 (ipykernel)",
   "language": "python",
   "name": "python3"
  },
  "language_info": {
   "codemirror_mode": {
    "name": "ipython",
    "version": 3
   },
   "file_extension": ".py",
   "mimetype": "text/x-python",
   "name": "python",
   "nbconvert_exporter": "python",
   "pygments_lexer": "ipython3",
   "version": "3.9.7"
  }
 },
 "nbformat": 4,
 "nbformat_minor": 5
}
